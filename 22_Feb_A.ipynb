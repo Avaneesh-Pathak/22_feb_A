{
 "cells": [
  {
   "cell_type": "code",
   "execution_count": 1,
   "metadata": {},
   "outputs": [
    {
     "name": "stdout",
     "output_type": "stream",
     "text": [
      "0     4\n",
      "1     8\n",
      "2    15\n",
      "3    16\n",
      "4    23\n",
      "5    42\n",
      "dtype: int64\n"
     ]
    }
   ],
   "source": [
    "# create a Pandas Series with the given data and print it\n",
    "\n",
    "import pandas as pd\n",
    "\n",
    "data = [4, 8, 15, 16, 23, 42]\n",
    "series = pd.Series(data)\n",
    "print(series)\n"
   ]
  },
  {
   "cell_type": "code",
   "execution_count": 2,
   "metadata": {},
   "outputs": [
    {
     "name": "stdout",
     "output_type": "stream",
     "text": [
      "0     1\n",
      "1     2\n",
      "2     3\n",
      "3     4\n",
      "4     5\n",
      "5     6\n",
      "6     7\n",
      "7     8\n",
      "8     9\n",
      "9    10\n",
      "dtype: int64\n"
     ]
    }
   ],
   "source": [
    "# Q2. Create a variable of list type containing 10 elements in it, and apply pandas.Series function on the\n",
    "# variable print it.\n",
    "\n",
    "import pandas as pd\n",
    "\n",
    "my_list = [1, 2, 3, 4, 5, 6, 7, 8, 9, 10]\n",
    "series = pd.Series(my_list)\n",
    "print(series)\n"
   ]
  },
  {
   "cell_type": "code",
   "execution_count": 3,
   "metadata": {},
   "outputs": [
    {
     "name": "stdout",
     "output_type": "stream",
     "text": [
      "     Name  Age  Gender\n",
      "0   Alice   25  Female\n",
      "1     Bob   30    Male\n",
      "2  Claire   27  Female\n"
     ]
    }
   ],
   "source": [
    "# Create a Pandas DataFrame that contains the following data:\n",
    "\n",
    "import pandas as pd\n",
    "\n",
    "data = {'Name': ['Alice', 'Bob', 'Claire'],\n",
    "        'Age': [25, 30, 27],\n",
    "        'Gender': ['Female', 'Male', 'Female']}\n",
    "\n",
    "df = pd.DataFrame(data)\n",
    "print(df)\n",
    "\n"
   ]
  },
  {
   "cell_type": "code",
   "execution_count": 4,
   "metadata": {},
   "outputs": [
    {
     "name": "stdout",
     "output_type": "stream",
     "text": [
      "0    10\n",
      "1    20\n",
      "2    30\n",
      "3    40\n",
      "4    50\n",
      "Name: Numbers, dtype: int64\n",
      "    Name  Age\n",
      "0   John   25\n",
      "1   Emma   30\n",
      "2  Peter   28\n"
     ]
    }
   ],
   "source": [
    "# #Q4. What is ‘DataFrame’ in pandas and how is it different from pandas.series? Explain with an example.\n",
    "\n",
    "# #\n",
    "# A DataFrame in Pandas is a 2-dimensional labeled data structure that can store data of different types (numeric, string, boolean, etc.) in a tabular form. It consists of rows and columns and is similar to a table in a relational database or a spreadsheet.\n",
    "\n",
    "# The main difference between a DataFrame and a Series is that a Series is a 1-dimensional labeled array, while a DataFrame is a 2-dimensional labeled data structure with potentially multiple columns.\n",
    "\n",
    "\n",
    "import pandas as pd\n",
    "\n",
    "# Create a Series\n",
    "series = pd.Series([10, 20, 30, 40, 50], name='Numbers')\n",
    "\n",
    "# Create a DataFrame\n",
    "data = {'Name': ['John', 'Emma', 'Peter'],\n",
    "        'Age': [25, 30, 28]}\n",
    "df = pd.DataFrame(data)\n",
    "\n",
    "print(series)\n",
    "print(df)\n"
   ]
  },
  {
   "cell_type": "markdown",
   "metadata": {},
   "source": [
    " \n",
    "Q5. What are some common functions you can use to manipulate data in a Pandas DataFrame? Can\n",
    " you give an example of when you might use one of these functions?\n",
    "\n",
    "Pandas provides various functions to manipulate data in a DataFrame. Some common functions include:\n",
    "\n",
    "head(): Returns the first n rows of the DataFrame.\n",
    "tail(): Returns the last n rows of the DataFrame.\n",
    "describe(): Generates descriptive statistics of the DataFrame.\n",
    "sort_values(): Sorts the DataFrame by one or more columns.\n",
    "groupby(): Groups the DataFrame by one or more columns and performs aggregate operations.\n",
    "dropna(): Drops rows or columns with missing values.\n",
    "fillna(): Fills missing values in the DataFrame with a specified value or method.\n"
   ]
  },
  {
   "cell_type": "markdown",
   "metadata": {},
   "source": [
    "Q6. Which of the following is mutable in nature Series, DataFrame, Panel?\n",
    "\n",
    "Among Series, DataFrame, and Panel, only the Series object is mutable in nature. Both DataFrame and Panel objects are immutable, meaning their values cannot be changed once created."
   ]
  },
  {
   "cell_type": "markdown",
   "metadata": {},
   "source": [
    "Q7. Create a DataFrame using multiple Series. Explain with an example.\n",
    "\n"
   ]
  },
  {
   "cell_type": "code",
   "execution_count": 5,
   "metadata": {},
   "outputs": [
    {
     "name": "stdout",
     "output_type": "stream",
     "text": [
      "    Name  Age\n",
      "0   John   25\n",
      "1   Emma   30\n",
      "2  Peter   28\n"
     ]
    }
   ],
   "source": [
    "import pandas as pd\n",
    "\n",
    "# Create Series\n",
    "name_series = pd.Series(['John', 'Emma', 'Peter'])\n",
    "age_series = pd.Series([25, 30, 28])\n",
    "\n",
    "# Create DataFrame using Series\n",
    "data = {'Name': name_series, 'Age': age_series}\n",
    "df = pd.DataFrame(data)\n",
    "\n",
    "print(df)\n"
   ]
  }
 ],
 "metadata": {
  "kernelspec": {
   "display_name": "base",
   "language": "python",
   "name": "python3"
  },
  "language_info": {
   "codemirror_mode": {
    "name": "ipython",
    "version": 3
   },
   "file_extension": ".py",
   "mimetype": "text/x-python",
   "name": "python",
   "nbconvert_exporter": "python",
   "pygments_lexer": "ipython3",
   "version": "3.10.9"
  },
  "orig_nbformat": 4
 },
 "nbformat": 4,
 "nbformat_minor": 2
}
